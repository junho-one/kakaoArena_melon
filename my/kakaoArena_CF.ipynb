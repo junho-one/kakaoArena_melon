{
 "cells": [
  {
   "cell_type": "markdown",
   "metadata": {},
   "source": [
    "# Collaborative Filtering - memory based\n",
    "\n",
    "user-item matrix를 이용해 플레이리스트에 들어있는 노래를 보고 유사한 플레이리스트를 추천해줄 것이다.\n"
   ]
  },
  {
   "cell_type": "code",
   "execution_count": 1,
   "metadata": {},
   "outputs": [],
   "source": [
    "import json\n",
    "import numpy as np\n",
    "import pandas as pd\n",
    "from scipy import sparse\n",
    "\n",
    "from sklearn.neighbors import NearestNeighbors"
   ]
  },
  {
   "cell_type": "markdown",
   "metadata": {},
   "source": [
    "## 데이터 기본 전처리\n",
    "\n",
    "#### 플레이리스트\n",
    "* 최대 인덱스 : 153428\n",
    "* 인덱스 갯수 : 115071\n",
    "\n",
    "#### 노래\n",
    "* 최대 인덱스 : 707988 \n",
    "* 인덱스 갯수 : 615142\n",
    "\n",
    "이렇게 인덱스 갯수와 최대 인덱스가 다르다.\n",
    "\n",
    "이런 데이터를 그냥 넣고 만들면 user-item matrix로 변환되면서 중간에 비어 있던 인덱스가 붙어서 매트릭스가 만들어지기에<br/>\n",
    "입력값을 만들 때 item id의 max만큼의 배열을 잡으면 크기가 안맞게 된다.\n",
    "\n",
    "\n",
    "예를들면<br/>\n",
    "[1,5,12,64] 가 있다면  64크기의 배열이 아닌 4크기의 배열로 잡아야한다.<br/>\n",
    "또한 1 -> 0, 5 -> 1, 12 -> 2, 64 -> 3로 인덱스에 변화가 생긴다. 이를 맞춰주기 위한 데이터 작업을 선행해야 한다.\n",
    "\n",
    "\n",
    "위와 같은 문제가 song에서도나고, plylst에서도 난다.<br/>\n",
    "song과 plylst의 max와 nunique가 다르기때문에 발생하는 문제\n",
    "\n",
    "이를 해결하기 위해 user-item matrix의 크기를 [플레이리스트 최대 인덱스, 노래 최대 인덱스]로 해줘야 한다.\n",
    "\n"
   ]
  },
  {
   "cell_type": "code",
   "execution_count": 2,
   "metadata": {},
   "outputs": [],
   "source": [
    "train = pd.read_json(\"./data/train.json\", typ='frame')"
   ]
  },
  {
   "cell_type": "code",
   "execution_count": 3,
   "metadata": {},
   "outputs": [],
   "source": [
    "plylst_song_map = train[['id','songs']]\n",
    "\n",
    "plylst_song_map_unnest = np.dstack(\n",
    "    (\n",
    "        np.repeat(plylst_song_map.id.values, list(map(len, plylst_song_map.songs))),\n",
    "        np.concatenate(plylst_song_map.songs.values)\n",
    "    )\n",
    ")\n",
    "\n",
    "plylst_song_map = pd.DataFrame(data = plylst_song_map_unnest[0], columns = plylst_song_map.columns)\n",
    "plylst_song_map['id'] = plylst_song_map['id'].astype(str)\n",
    "plylst_song_map['songs'] = plylst_song_map['songs'].astype(str)\n",
    "# plylst_song_map['include'] = True\n",
    "\n",
    "plylst_song_map = plylst_song_map.rename(columns = {'id' : 'plylst_id' , 'songs' : 'song_id'})\n",
    "plylst_song_map_withnan = plylst_song_map.rename(columns = {'id' : 'plylst_id' , 'songs' : 'song_id'})\n",
    "\n",
    "# del plylst_song_map_unnest"
   ]
  },
  {
   "cell_type": "code",
   "execution_count": 4,
   "metadata": {},
   "outputs": [],
   "source": [
    "plylst_song_map_withnan['plylst_id'] = plylst_song_map_withnan['plylst_id'].astype(int)\n",
    "\n",
    "all_plylst = pd.DataFrame(list(range(0, plylst_song_map_withnan['plylst_id'].max() + 1)), columns=['plylst_id'])"
   ]
  },
  {
   "cell_type": "code",
   "execution_count": 5,
   "metadata": {},
   "outputs": [],
   "source": [
    "present_plylst_song = pd.DataFrame(data = plylst_song_map_unnest[0], columns = plylst_song_map_withnan.columns)"
   ]
  },
  {
   "cell_type": "code",
   "execution_count": 6,
   "metadata": {},
   "outputs": [],
   "source": [
    "all_plylst = pd.merge(all_plylst, present_plylst_song, on ='plylst_id', how='left')"
   ]
  },
  {
   "cell_type": "code",
   "execution_count": 7,
   "metadata": {
    "scrolled": true
   },
   "outputs": [
    {
     "name": "stdout",
     "output_type": "stream",
     "text": [
      "38358\n",
      "0 153428\n",
      "38357\n",
      "1 153428\n"
     ]
    }
   ],
   "source": [
    "print(len(all_plylst) - len(present_plylst_song))\n",
    "print(all_plylst['plylst_id'].min(), all_plylst['plylst_id'].max())\n",
    "print(plylst_song_map_withnan['plylst_id'].max() - plylst_song_map_withnan['plylst_id'].nunique())\n",
    "print(plylst_song_map_withnan['plylst_id'].min(), plylst_song_map_withnan['plylst_id'].max())"
   ]
  },
  {
   "cell_type": "code",
   "execution_count": 8,
   "metadata": {},
   "outputs": [
    {
     "data": {
      "text/html": [
       "<div>\n",
       "<style scoped>\n",
       "    .dataframe tbody tr th:only-of-type {\n",
       "        vertical-align: middle;\n",
       "    }\n",
       "\n",
       "    .dataframe tbody tr th {\n",
       "        vertical-align: top;\n",
       "    }\n",
       "\n",
       "    .dataframe thead th {\n",
       "        text-align: right;\n",
       "    }\n",
       "</style>\n",
       "<table border=\"1\" class=\"dataframe\">\n",
       "  <thead>\n",
       "    <tr style=\"text-align: right;\">\n",
       "      <th></th>\n",
       "      <th>plylst_id</th>\n",
       "      <th>song_id</th>\n",
       "    </tr>\n",
       "  </thead>\n",
       "  <tbody>\n",
       "    <tr>\n",
       "      <th>0</th>\n",
       "      <td>0</td>\n",
       "      <td>NaN</td>\n",
       "    </tr>\n",
       "    <tr>\n",
       "      <th>22</th>\n",
       "      <td>3</td>\n",
       "      <td>NaN</td>\n",
       "    </tr>\n",
       "    <tr>\n",
       "      <th>290</th>\n",
       "      <td>10</td>\n",
       "      <td>NaN</td>\n",
       "    </tr>\n",
       "    <tr>\n",
       "      <th>291</th>\n",
       "      <td>11</td>\n",
       "      <td>NaN</td>\n",
       "    </tr>\n",
       "    <tr>\n",
       "      <th>475</th>\n",
       "      <td>17</td>\n",
       "      <td>NaN</td>\n",
       "    </tr>\n",
       "  </tbody>\n",
       "</table>\n",
       "</div>"
      ],
      "text/plain": [
       "     plylst_id  song_id\n",
       "0            0      NaN\n",
       "22           3      NaN\n",
       "290         10      NaN\n",
       "291         11      NaN\n",
       "475         17      NaN"
      ]
     },
     "execution_count": 8,
     "metadata": {},
     "output_type": "execute_result"
    }
   ],
   "source": [
    "all_plylst[all_plylst['song_id'].isnull()].head()"
   ]
  },
  {
   "cell_type": "code",
   "execution_count": 9,
   "metadata": {},
   "outputs": [],
   "source": [
    "plylst_song_map_withnan['song_id'] = plylst_song_map_withnan['song_id'].astype(int)\n",
    "\n",
    "all_song = pd.DataFrame(list(range(0, plylst_song_map_withnan['song_id'].max() + 1)), columns=['song_id'])\n"
   ]
  },
  {
   "cell_type": "code",
   "execution_count": 10,
   "metadata": {},
   "outputs": [],
   "source": [
    "all_song = pd.merge(all_song, present_plylst_song, on ='song_id', how='left')"
   ]
  },
  {
   "cell_type": "code",
   "execution_count": 11,
   "metadata": {},
   "outputs": [
    {
     "name": "stdout",
     "output_type": "stream",
     "text": [
      "92847\n",
      "0 707988 707989\n",
      "92846\n",
      "0 707988 615142\n"
     ]
    }
   ],
   "source": [
    "print(len(all_song) - len(present_plylst_song))\n",
    "print(all_song['song_id'].min(), all_song['song_id'].max(), all_song['song_id'].nunique())\n",
    "\n",
    "print(plylst_song_map_withnan['song_id'].max() - plylst_song_map_withnan['song_id'].nunique())\n",
    "print(plylst_song_map_withnan['song_id'].min(), plylst_song_map_withnan['song_id'].max(), plylst_song_map_withnan['song_id'].nunique())"
   ]
  },
  {
   "cell_type": "code",
   "execution_count": 12,
   "metadata": {},
   "outputs": [
    {
     "data": {
      "text/plain": [
       "5285871"
      ]
     },
     "execution_count": 12,
     "metadata": {},
     "output_type": "execute_result"
    }
   ],
   "source": [
    "len(plylst_song_map)"
   ]
  },
  {
   "cell_type": "code",
   "execution_count": 13,
   "metadata": {},
   "outputs": [],
   "source": [
    "plylst_song_map_withnan = pd.concat([all_plylst,all_song]).drop_duplicates(subset = ['plylst_id','song_id'])\n"
   ]
  },
  {
   "cell_type": "code",
   "execution_count": 14,
   "metadata": {},
   "outputs": [
    {
     "data": {
      "text/html": [
       "<div>\n",
       "<style scoped>\n",
       "    .dataframe tbody tr th:only-of-type {\n",
       "        vertical-align: middle;\n",
       "    }\n",
       "\n",
       "    .dataframe tbody tr th {\n",
       "        vertical-align: top;\n",
       "    }\n",
       "\n",
       "    .dataframe thead th {\n",
       "        text-align: right;\n",
       "    }\n",
       "</style>\n",
       "<table border=\"1\" class=\"dataframe\">\n",
       "  <thead>\n",
       "    <tr style=\"text-align: right;\">\n",
       "      <th></th>\n",
       "      <th>plylst_id</th>\n",
       "      <th>song_id</th>\n",
       "      <th>include</th>\n",
       "    </tr>\n",
       "  </thead>\n",
       "  <tbody>\n",
       "    <tr>\n",
       "      <th>0</th>\n",
       "      <td>0.0</td>\n",
       "      <td>1.0</td>\n",
       "      <td>False</td>\n",
       "    </tr>\n",
       "    <tr>\n",
       "      <th>1</th>\n",
       "      <td>1.0</td>\n",
       "      <td>47805.0</td>\n",
       "      <td>True</td>\n",
       "    </tr>\n",
       "    <tr>\n",
       "      <th>2</th>\n",
       "      <td>1.0</td>\n",
       "      <td>308020.0</td>\n",
       "      <td>True</td>\n",
       "    </tr>\n",
       "    <tr>\n",
       "      <th>3</th>\n",
       "      <td>1.0</td>\n",
       "      <td>662131.0</td>\n",
       "      <td>True</td>\n",
       "    </tr>\n",
       "    <tr>\n",
       "      <th>4</th>\n",
       "      <td>1.0</td>\n",
       "      <td>418970.0</td>\n",
       "      <td>True</td>\n",
       "    </tr>\n",
       "    <tr>\n",
       "      <th>...</th>\n",
       "      <td>...</td>\n",
       "      <td>...</td>\n",
       "      <td>...</td>\n",
       "    </tr>\n",
       "    <tr>\n",
       "      <th>5378607</th>\n",
       "      <td>1.0</td>\n",
       "      <td>707962.0</td>\n",
       "      <td>False</td>\n",
       "    </tr>\n",
       "    <tr>\n",
       "      <th>5378649</th>\n",
       "      <td>1.0</td>\n",
       "      <td>707968.0</td>\n",
       "      <td>False</td>\n",
       "    </tr>\n",
       "    <tr>\n",
       "      <th>5378677</th>\n",
       "      <td>1.0</td>\n",
       "      <td>707971.0</td>\n",
       "      <td>False</td>\n",
       "    </tr>\n",
       "    <tr>\n",
       "      <th>5378679</th>\n",
       "      <td>1.0</td>\n",
       "      <td>707973.0</td>\n",
       "      <td>False</td>\n",
       "    </tr>\n",
       "    <tr>\n",
       "      <th>5378684</th>\n",
       "      <td>1.0</td>\n",
       "      <td>707977.0</td>\n",
       "      <td>False</td>\n",
       "    </tr>\n",
       "  </tbody>\n",
       "</table>\n",
       "<p>5417076 rows × 3 columns</p>\n",
       "</div>"
      ],
      "text/plain": [
       "         plylst_id   song_id  include\n",
       "0              0.0       1.0    False\n",
       "1              1.0   47805.0     True\n",
       "2              1.0  308020.0     True\n",
       "3              1.0  662131.0     True\n",
       "4              1.0  418970.0     True\n",
       "...            ...       ...      ...\n",
       "5378607        1.0  707962.0    False\n",
       "5378649        1.0  707968.0    False\n",
       "5378677        1.0  707971.0    False\n",
       "5378679        1.0  707973.0    False\n",
       "5378684        1.0  707977.0    False\n",
       "\n",
       "[5417076 rows x 3 columns]"
      ]
     },
     "execution_count": 14,
     "metadata": {},
     "output_type": "execute_result"
    }
   ],
   "source": [
    "plylst_song_map_withnan['include'] = True\n",
    "\n",
    "plylst_song_map_withnan['include'] = ~plylst_song_map_withnan.isnull().any(axis=1)   # Nan이 있으면 False\n",
    "plylst_song_map_withnan['song_id'] = plylst_song_map_withnan['song_id'].fillna(1)\n",
    "plylst_song_map_withnan['plylst_id'] = plylst_song_map_withnan['plylst_id'].fillna(1)\n",
    "\n",
    "plylst_song_map_withnan"
   ]
  },
  {
   "cell_type": "code",
   "execution_count": 15,
   "metadata": {},
   "outputs": [
    {
     "name": "stdout",
     "output_type": "stream",
     "text": [
      "153428 115071\n",
      "707988 615142\n"
     ]
    }
   ],
   "source": [
    "plylst_song_map['plylst_id'] = plylst_song_map['plylst_id'].astype(int)\n",
    "plylst_song_map['song_id'] = plylst_song_map['song_id'].astype(int)\n",
    "\n",
    "print(plylst_song_map['plylst_id'].max(), plylst_song_map['plylst_id'].nunique())\n",
    "print(plylst_song_map['song_id'].max(), plylst_song_map['song_id'].nunique())"
   ]
  },
  {
   "cell_type": "markdown",
   "metadata": {},
   "source": [
    "# to User-Item matrix (sparse)\n",
    "\n",
    "아이템 기반 추천이 더 성능이 좋다고 한ek\n",
    "\n",
    "\n",
    "item-user matrix가 (153428, 707989)가 된 이유는 원래 데이터에 song_id는 0부터 시작했지만 plylst_id는 1부터 시작했따.<br/>\n",
    "그래서 0이 추가되어 max값 보다 하나가 더 늘어남"
   ]
  },
  {
   "cell_type": "code",
   "execution_count": 16,
   "metadata": {},
   "outputs": [
    {
     "name": "stdout",
     "output_type": "stream",
     "text": [
      "(아이템 수, 유저 수) : (153429, 707989)\n"
     ]
    }
   ],
   "source": [
    "from scipy import sparse\n",
    "\n",
    "def create_matrix(data, user_col, item_col, rating_col):\n",
    "\n",
    "    rows = data[user_col].astype('category').cat.codes\n",
    "    cols = data[item_col].astype('category').cat.codes\n",
    "    rating = data[rating_col]\n",
    "    ratings = sparse.csr_matrix((rating, (rows, cols)))\n",
    "#     ratings.eliminate_zeros()\n",
    "    return ratings, data\n",
    "\n",
    "sparse_rating, data = create_matrix(plylst_song_map_withnan, 'plylst_id', 'song_id', \"include\")\n",
    "# movieId, userId순으로 하면 열에 movie, 행에 사람들의 평가가 들어간 item-user 매트릭스\n",
    "\n",
    "# dense_rating = sparse_rating.toarray()\n",
    "# dense_rating = dense_rating.astype(np.uint8) # bool --> uint8\n",
    "# print(dense_rating.shape)\n",
    "\n",
    "print(\"(아이템 수, 유저 수) :\",sparse_rating.shape)\n",
    "\n",
    "# 저장하기 save_sparse_csr('/users/nickbecker/Python_Projects/lastfm_sparse_artist_matrix_binary.npz', wide_artist_data_zero_one_sparse)"
   ]
  },
  {
   "cell_type": "code",
   "execution_count": 17,
   "metadata": {},
   "outputs": [
    {
     "data": {
      "text/plain": [
       "NearestNeighbors(algorithm='brute', metric='cosine')"
      ]
     },
     "execution_count": 17,
     "metadata": {},
     "output_type": "execute_result"
    }
   ],
   "source": [
    "model_knn = NearestNeighbors(metric = 'cosine', algorithm ='brute')\n",
    "model_knn.fit(sparse_rating)"
   ]
  },
  {
   "cell_type": "code",
   "execution_count": 18,
   "metadata": {},
   "outputs": [],
   "source": [
    "song_size = sparse_rating.shape[1]\n",
    "history = np.zeros((1,song_size))"
   ]
  },
  {
   "cell_type": "code",
   "execution_count": 19,
   "metadata": {},
   "outputs": [
    {
     "name": "stdout",
     "output_type": "stream",
     "text": [
      "all data : (153429, 707989)\n",
      "input data : (1, 707989)\n"
     ]
    }
   ],
   "source": [
    "print(\"all data :\",sparse_rating.shape)\n",
    "print(\"input data :\",history.shape)"
   ]
  },
  {
   "cell_type": "code",
   "execution_count": 20,
   "metadata": {},
   "outputs": [],
   "source": [
    "plylstTosong = train[['id','songs']]"
   ]
  },
  {
   "cell_type": "code",
   "execution_count": 21,
   "metadata": {
    "scrolled": true
   },
   "outputs": [
    {
     "name": "stdout",
     "output_type": "stream",
     "text": [
      "37.0\n",
      "Recommendations for movieId:41663\n",
      "1 : 147168, with distance of 0.6203368016990004\n",
      "2 : 33070, with distance of 0.629821977137059\n",
      "3 : 107867, with distance of 0.7152526012742503\n",
      "4 : 95806, with distance of 0.75145209359952\n",
      "5 : 150828, with distance of 0.7794356133718576\n"
     ]
    },
    {
     "name": "stderr",
     "output_type": "stream",
     "text": [
      "/home/junho/anaconda3/envs/junho/lib/python3.6/site-packages/ipykernel_launcher.py:12: FutureWarning: Using a non-tuple sequence for multidimensional indexing is deprecated; use `arr[tuple(seq)]` instead of `arr[seq]`. In the future this will be interpreted as an array index, `arr[np.array(seq)]`, which will result either in an error or a different result.\n",
      "  if sys.path[0] == '':\n"
     ]
    }
   ],
   "source": [
    "query_idx = np.random.choice(sparse_rating.shape[0]) # 빈 리스트가 올 수도 있으니 바꿔줘야해\n",
    "\n",
    "history = np.zeros((1,song_size))\n",
    "# print(query_idx)\n",
    "# print(len(plylst_song_map.loc[plylst_song_map['plylst_id'] == query_idx]))\n",
    "# print(plylstTosong.loc[plylstTosong['id'] == query_idx]['songs'])\n",
    "# print(type(plylstTosong.loc[plylstTosong['id'] == query_idx]['songs']))\n",
    "\n",
    "input_songs = plylstTosong.loc[plylstTosong['id'] == query_idx]['songs'].tolist()\n",
    "\n",
    "if input_songs : \n",
    "    history[0][input_songs] = 1\n",
    "\n",
    "    print(sum(history[0]))\n",
    "    distances, indices = model_knn.kneighbors(history, n_neighbors = 6)\n",
    "\n",
    "    for i in range(0, len(distances.flatten())) :\n",
    "        if i == 0 :\n",
    "            print(\"Recommendations for movieId:{0}\".format(query_idx))\n",
    "        else :\n",
    "            print(\"{0} : {1}, with distance of {2}\".format(i, indices.flatten()[i], distances.flatten()[i]))\n",
    "        "
   ]
  },
  {
   "cell_type": "markdown",
   "metadata": {},
   "source": [
    "-----------------------------------------------------"
   ]
  },
  {
   "cell_type": "code",
   "execution_count": null,
   "metadata": {},
   "outputs": [],
   "source": []
  },
  {
   "cell_type": "code",
   "execution_count": null,
   "metadata": {},
   "outputs": [],
   "source": []
  },
  {
   "cell_type": "code",
   "execution_count": null,
   "metadata": {},
   "outputs": [],
   "source": []
  },
  {
   "cell_type": "code",
   "execution_count": null,
   "metadata": {},
   "outputs": [],
   "source": []
  },
  {
   "cell_type": "code",
   "execution_count": null,
   "metadata": {},
   "outputs": [],
   "source": []
  },
  {
   "cell_type": "code",
   "execution_count": null,
   "metadata": {},
   "outputs": [],
   "source": [
    "plylst_song_map['song_id'] = plylst_song_map['song_id'].astype(int)\n",
    "\n",
    "print(plylst_song_map['song_id'].nunique(), plylst_song_map['song_id'].max())"
   ]
  },
  {
   "cell_type": "code",
   "execution_count": null,
   "metadata": {},
   "outputs": [],
   "source": [
    "plylst_song_map['song_id'] = plylst_song_map['song_id'].astype(str)\n",
    "\n",
    "plylst_song_map_ex = plylst_song_map.groupby(['plylst_id'])['song_id'].apply(','.join).reset_index()\n",
    "\n",
    "plylst_song_map_ex['song_id'] = plylst_song_map_ex['song_id'].apply(lambda x : eval(\"[\"+x+\"]\"))\n",
    "\n",
    "== train"
   ]
  },
  {
   "cell_type": "code",
   "execution_count": null,
   "metadata": {},
   "outputs": [],
   "source": [
    "unique_song_id = list(sorted(map(int,plylst_song_map['song_id'].unique())))\n",
    "idx_list = list(range(len(unique_song_id)))\n",
    "\n",
    "IdxToRealidx = dict(zip(unique_song_id,idx_list))"
   ]
  },
  {
   "cell_type": "code",
   "execution_count": null,
   "metadata": {},
   "outputs": [],
   "source": [
    "model_knn = NearestNeighbors(metric = 'cosine', algorithm ='brute')\n",
    "model_knn.fit(sparse_rating)"
   ]
  },
  {
   "cell_type": "code",
   "execution_count": null,
   "metadata": {},
   "outputs": [],
   "source": [
    "song_size = plylst_song_map['song_id'].nunique()\n",
    "history = np.zeros((1,song_size))"
   ]
  },
  {
   "cell_type": "code",
   "execution_count": null,
   "metadata": {},
   "outputs": [],
   "source": [
    "song_meta = pd.read_json('./data/song_meta.json', typ='frame')\n",
    "song_id_name = song_meta[['id','song_name']]\n",
    "SongidToName = dict(zip(song_meta['id'],song_meta['song_name']))"
   ]
  },
  {
   "cell_type": "code",
   "execution_count": null,
   "metadata": {},
   "outputs": [],
   "source": [
    "# make input data\n",
    "for query_idx in range(sparse_rating.shape[0]) :\n",
    "#     query_idx = np.random.choice(sparse_rating.shape[0])\n",
    "\n",
    "    history = np.zeros((1,song_size))\n",
    "    print(query_idx)\n",
    "    for i in plylst_song_map_ex.loc[plylst_song_map_ex['plylst_id'] == query_idx]['song_id'] :\n",
    "\n",
    "        history[0][IdxToRealidx[i]] = 1\n",
    "\n",
    "    # inference     \n",
    "    distances, indices = model_knn.kneighbors(history, n_neighbors = 6)\n",
    "\n",
    "#     for i in range(0, len(distances.flatten())) :\n",
    "#         if i == 0 :\n",
    "#             print(\"Recommendations for movieId:{0}\".format(SongidToName[query_idx]))\n",
    "#         else :\n",
    "#             print(\"{0} : {1}, with distance of {2}\".format(i, SongidToName[indices.flatten()[i]], distances.flatten()[i]))\n",
    "        "
   ]
  }
 ],
 "metadata": {
  "kernelspec": {
   "display_name": "junho",
   "language": "python",
   "name": "junho"
  },
  "language_info": {
   "codemirror_mode": {
    "name": "ipython",
    "version": 3
   },
   "file_extension": ".py",
   "mimetype": "text/x-python",
   "name": "python",
   "nbconvert_exporter": "python",
   "pygments_lexer": "ipython3",
   "version": "3.6.10"
  }
 },
 "nbformat": 4,
 "nbformat_minor": 2
}
